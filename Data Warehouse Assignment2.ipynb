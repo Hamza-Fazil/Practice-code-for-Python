{
 "cells": [
  {
   "cell_type": "code",
   "execution_count": 2,
   "id": "5a8d7e43",
   "metadata": {},
   "outputs": [
    {
     "name": "stderr",
     "output_type": "stream",
     "text": [
      "Matplotlib is building the font cache; this may take a moment.\n"
     ]
    }
   ],
   "source": [
    "from sklearn.cluster import KMeans\n",
    "import pandas as pd\n",
    "from sklearn.preprocessing import MinMaxScaler\n",
    "from matplotlib import pyplot as plt\n",
    "%matplotlib inline"
   ]
  },
  {
   "cell_type": "code",
   "execution_count": 5,
   "id": "0b64d1a7",
   "metadata": {},
   "outputs": [
    {
     "data": {
      "text/html": [
       "<div>\n",
       "<style scoped>\n",
       "    .dataframe tbody tr th:only-of-type {\n",
       "        vertical-align: middle;\n",
       "    }\n",
       "\n",
       "    .dataframe tbody tr th {\n",
       "        vertical-align: top;\n",
       "    }\n",
       "\n",
       "    .dataframe thead th {\n",
       "        text-align: right;\n",
       "    }\n",
       "</style>\n",
       "<table border=\"1\" class=\"dataframe\">\n",
       "  <thead>\n",
       "    <tr style=\"text-align: right;\">\n",
       "      <th></th>\n",
       "      <th>NAME</th>\n",
       "      <th>ROLL NO</th>\n",
       "      <th>MARKS</th>\n",
       "    </tr>\n",
       "  </thead>\n",
       "  <tbody>\n",
       "    <tr>\n",
       "      <th>0</th>\n",
       "      <td>Abdul Waris</td>\n",
       "      <td>1</td>\n",
       "      <td>17</td>\n",
       "    </tr>\n",
       "    <tr>\n",
       "      <th>1</th>\n",
       "      <td>Talha Ahmed</td>\n",
       "      <td>2</td>\n",
       "      <td>22</td>\n",
       "    </tr>\n",
       "    <tr>\n",
       "      <th>2</th>\n",
       "      <td>Usama</td>\n",
       "      <td>3</td>\n",
       "      <td>24</td>\n",
       "    </tr>\n",
       "    <tr>\n",
       "      <th>3</th>\n",
       "      <td>Wasi</td>\n",
       "      <td>4</td>\n",
       "      <td>21</td>\n",
       "    </tr>\n",
       "    <tr>\n",
       "      <th>4</th>\n",
       "      <td>Salman Haider</td>\n",
       "      <td>5</td>\n",
       "      <td>25</td>\n",
       "    </tr>\n",
       "  </tbody>\n",
       "</table>\n",
       "</div>"
      ],
      "text/plain": [
       "            NAME  ROLL NO  MARKS\n",
       "0    Abdul Waris        1     17\n",
       "1    Talha Ahmed        2     22\n",
       "2          Usama        3     24\n",
       "3           Wasi        4     21\n",
       "4  Salman Haider        5     25"
      ]
     },
     "execution_count": 5,
     "metadata": {},
     "output_type": "execute_result"
    }
   ],
   "source": [
    "hamza = pd.read_csv(\"C:\\\\Users\\\\hijaz tr\\\\OneDrive\\\\Desktop\\MARKS.csv\")\n",
    "hamza.head()\n"
   ]
  },
  {
   "cell_type": "code",
   "execution_count": 6,
   "id": "9138933b",
   "metadata": {},
   "outputs": [
    {
     "data": {
      "text/plain": [
       "<matplotlib.collections.PathCollection at 0x1e63fc59fa0>"
      ]
     },
     "execution_count": 6,
     "metadata": {},
     "output_type": "execute_result"
    },
    {
     "data": {
      "image/png": "[encoded data removed]",
      "text/plain": [
       "<Figure size 432x288 with 1 Axes>"
      ]
     },
     "metadata": {
      "needs_background": "light"
     },
     "output_type": "display_data"
    }
   ],
   "source": [
    "plt.scatter(hamza['ROLL NO'],hamza['MARKS'])"
   ]
  },
  {
   "cell_type": "code",
   "execution_count": 8,
   "id": "e0120170",
   "metadata": {},
   "outputs": [
    {
     "data": {
      "text/plain": [
       "KMeans(n_clusters=3)"
      ]
     },
     "execution_count": 8,
     "metadata": {},
     "output_type": "execute_result"
    }
   ],
   "source": [
    "K=KMeans(n_clusters=3)\n",
    "K"
   ]
  },
  {
   "cell_type": "code",
   "execution_count": 9,
   "id": "9eee56d8",
   "metadata": {},
   "outputs": [
    {
     "data": {
      "text/plain": [
       "array([1, 1, 1, 1, 1, 1, 1, 1, 1, 2, 1, 0, 0, 0, 0, 0, 2, 0, 0, 2, 0, 0,\n",
       "       0])"
      ]
     },
     "execution_count": 9,
     "metadata": {},
     "output_type": "execute_result"
    }
   ],
   "source": [
    "y_predicted=K.fit_predict(hamza[['ROLL NO','MARKS']])\n",
    "y_predicted"
   ]
  },
  {
   "cell_type": "code",
   "execution_count": 10,
   "id": "a37766d4",
   "metadata": {},
   "outputs": [
    {
     "data": {
      "text/plain": [
       "<bound method NDFrame.head of                NAME  ROLL NO  MARKS  cluster\n",
       "0       Abdul Waris        1     17        1\n",
       "1       Talha Ahmed        2     22        1\n",
       "2             Usama        3     24        1\n",
       "3              Wasi        4     21        1\n",
       "4     Salman Haider        5     25        1\n",
       "5            Sameet        6     28        1\n",
       "6   Abdullah Masood        7     15        1\n",
       "7     Adullah Azzam        8     16        1\n",
       "8             Ahsan        9     23        1\n",
       "9              Adil       10      0        2\n",
       "10          Shazaib       11     22        1\n",
       "11       Umair Asif       12     17        0\n",
       "12        Taha Khan       13     18        0\n",
       "13       Hamza Ejaz       14     26        0\n",
       "14       Asad Ullah       15     26        0\n",
       "15             Saif       16     17        0\n",
       "16         Shahrukh       17      9        2\n",
       "17           Danish       18     22        0\n",
       "18      Hamza Fazil       19     18        0\n",
       "19        Sanaullah       20      5        2\n",
       "20  Muhammad Shoaib       21     16        0\n",
       "21     Nabeel Ahmed       22     21        0\n",
       "22    Abdullah Khan       23     18        0>"
      ]
     },
     "execution_count": 10,
     "metadata": {},
     "output_type": "execute_result"
    }
   ],
   "source": [
    "hamza['cluster']=y_predicted\n",
    "hamza.head"
   ]
  },
  {
   "cell_type": "code",
   "execution_count": 15,
   "id": "ade89bdd",
   "metadata": {},
   "outputs": [
    {
     "data": {
      "text/plain": [
       "Text(0, 0.5, 'MARKS')"
      ]
     },
     "execution_count": 15,
     "metadata": {},
     "output_type": "execute_result"
    },
    {
     "data": {
      "image/png": "[encoded data removed]",
      "text/plain": [
       "<Figure size 432x288 with 1 Axes>"
      ]
     },
     "metadata": {
      "needs_background": "light"
     },
     "output_type": "display_data"
    }
   ],
   "source": [
    "c1=hamza[hamza.cluster==0]\n",
    "c2=hamza[hamza.cluster==1]\n",
    "c3=hamza[hamza.cluster==2]\n",
    "\n",
    "plt.scatter(c1['ROLL NO'],c1['MARKS'],color='orange')\n",
    "plt.scatter(c2['ROLL NO'],c2['MARKS'],color='green')\n",
    "plt.scatter(c3['ROLL NO'],c3['MARKS'],color='blue')\n",
    "\n",
    "plt.xlabel('ROLL NO')\n",
    "plt.ylabel('MARKS')\n"
   ]
  },
  {
   "cell_type": "code",
   "execution_count": null,
   "id": "c1ca091b",
   "metadata": {},
   "outputs": [],
   "source": []
  }
 ],
 "metadata": {
  "kernelspec": {
   "display_name": "Python 3 (ipykernel)",
   "language": "python",
   "name": "python3"
  },
  "language_info": {
   "codemirror_mode": {
    "name": "ipython",
    "version": 3
   },
   "file_extension": ".py",
   "mimetype": "text/x-python",
   "name": "python",
   "nbconvert_exporter": "python",
   "pygments_lexer": "ipython3",
   "version": "3.9.7"
  }
 },
 "nbformat": 4,
 "nbformat_minor": 5
}
